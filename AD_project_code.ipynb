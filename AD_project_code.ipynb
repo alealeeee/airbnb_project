{
 "cells": [
  {
   "cell_type": "markdown",
   "id": "2f51af62",
   "metadata": {},
   "source": [
    "# Business Project of Alessandro Derchi \n",
    "## June 29th 2021 \n",
    "## Programming with Advanced Computer Languages\n"
   ]
  },
  {
   "cell_type": "markdown",
   "id": "49eb2f70",
   "metadata": {},
   "source": [
    "## 1. Setup \n",
    "In order to run the code please follow the steps:\n",
    "\n",
    "Please download the following libraries:"
   ]
  },
  {
   "cell_type": "code",
   "execution_count": null,
   "id": "7ceaac4b",
   "metadata": {},
   "outputs": [],
   "source": [
    "import requests\n",
    "import bs4\n",
    "import pandas as pd"
   ]
  },
  {
   "cell_type": "code",
   "execution_count": null,
   "id": "548ab05e",
   "metadata": {},
   "outputs": [],
   "source": [
    "url = \"https://www.airbnb.com/s/Bali--Indonesia/homes?tab_id=home_tab&refinement_paths%5B%5D=%2Fhomes&source=structured_search_input_header&search_type=filter_change&place_id=ChIJoQ8Q6NNB0S0RkOYkS7EPkSQ&flexible_trip_dates%5B%5D=august&flexible_trip_dates%5B%5D=july&flexible_trip_lengths%5B%5D=weekend_trip&date_picker_type=calendar&checkin=2021-07-07&checkout=2021-07-10&adults=2\""
   ]
  },
  {
   "cell_type": "markdown",
   "id": "ea852ac9",
   "metadata": {},
   "source": [
    "With the function get_page it should take the url as input and return its underlying HTML code as a BeautifulSoup object as output. The required libraries (requests) and (bs4) need to be also imported. "
   ]
  },
  {
   "cell_type": "code",
   "execution_count": null,
   "id": "13a8a165",
   "metadata": {},
   "outputs": [],
   "source": [
    "def get_page(url):\n",
    "    response = requests.get(url)\n",
    "    return bs4.BeautifulSoup(response.text, 'html.parser')\n",
    "\n",
    "soup = get_page(url)\n",
    "soup"
   ]
  },
  {
   "cell_type": "markdown",
   "id": "0dc575a8",
   "metadata": {},
   "source": [
    "A brief look at the given webpage shows that the information on the different listings is shown in a list form.\n",
    "For every listing a preview image is shown together with some standard information (title, rating, price, etc.)\n",
    "\n",
    "The get_listings function should take a BeautifulSoup object containing the code for a whole webpage as input and return a list of the individual pieces of code for each listing."
   ]
  },
  {
   "cell_type": "code",
   "execution_count": null,
   "id": "6b36c2b9",
   "metadata": {},
   "outputs": [],
   "source": [
    "listing_class = \"_8ssblpx\"\n",
    "listing_tag = \"div\"\n",
    "\n",
    "def get_listings(soup):\n",
    "    return soup.find_all(listing_tag,{\"class\": listing_class})\n",
    "\n",
    "get_listings(soup)[0]"
   ]
  },
  {
   "cell_type": "markdown",
   "id": "a6173872",
   "metadata": {},
   "source": [
    "## 2. Retrieving the data\n",
    "\n",
    "Now that the code for the separate listings is retrieved, we want to retrieve separate information from each listing.\n",
    "\n",
    "For each part of information that we can retrieve from the preview image on Airbnb, we will use functions for each part of information. To check if the code also works we will get as output the relevant information for each listing."
   ]
  },
  {
   "cell_type": "markdown",
   "id": "e33ad75d",
   "metadata": {},
   "source": [
    "1. Title"
   ]
  },
  {
   "cell_type": "code",
   "execution_count": null,
   "id": "5ccdd289",
   "metadata": {},
   "outputs": [],
   "source": [
    "title_class = \"_5kaapu\"\n",
    "title_tag = \"div\"\n",
    "\n",
    "def get_listing_title(listing):\n",
    "    try:\n",
    "        return listing.find(title_tag, {\"class\": title_class}).text\n",
    "    except: \n",
    "        return False\n",
    "\n",
    "get_listing_title(get_listings(soup)[0])"
   ]
  },
  {
   "cell_type": "markdown",
   "id": "45bb417b",
   "metadata": {},
   "source": [
    "2. Type of property\n"
   ]
  },
  {
   "cell_type": "code",
   "execution_count": null,
   "id": "7677fc76",
   "metadata": {},
   "outputs": [],
   "source": [
    "property_class = \"_1tanv1h\"\n",
    "property_tag = \"div\"\n",
    "\n",
    "def get_listing_property(listing):\n",
    "    try:\n",
    "        mystring = listing.find(property_tag, {\"class\": property_class}).text\n",
    "        before_keyword, keyword, after_keyword = mystring.partition(\" in \")\n",
    "        return before_keyword\n",
    "    except: \n",
    "        return None\n",
    "get_listing_property(get_listings(soup)[0])"
   ]
  },
  {
   "cell_type": "markdown",
   "id": "19a32d9f",
   "metadata": {},
   "source": [
    "3. Location\n"
   ]
  },
  {
   "cell_type": "code",
   "execution_count": null,
   "id": "79a63e31",
   "metadata": {},
   "outputs": [],
   "source": [
    "location_class = \"_1tanv1h\"\n",
    "location_tag = \"div\"\n",
    "\n",
    "def get_listing_location(listing):\n",
    "    try:\n",
    "        mystring = listing.find(location_tag, {\"class\": location_class}).text\n",
    "        before_keyword, keyword, after_keyword = mystring.partition(\" in \")\n",
    "        return after_keyword\n",
    "    except: \n",
    "        return None\n",
    "\n",
    "get_listing_location(get_listings(soup)[0])"
   ]
  },
  {
   "cell_type": "markdown",
   "id": "ef311515",
   "metadata": {},
   "source": [
    "4. Info"
   ]
  },
  {
   "cell_type": "code",
   "execution_count": null,
   "id": "f8195b6b",
   "metadata": {},
   "outputs": [],
   "source": [
    "info_class = \"_3c0zz1\"\n",
    "info_tag = \"div\"\n",
    "\n",
    "def get_listing_info(listing):\n",
    "    try:\n",
    "        return listing.find_all(info_tag, {\"class\": info_class})[0].text\n",
    "    except: \n",
    "        return None\n",
    "\n",
    "get_listing_info(get_listings(soup)[0])"
   ]
  },
  {
   "cell_type": "markdown",
   "id": "5e785fcc",
   "metadata": {},
   "source": [
    "5. Amenities"
   ]
  },
  {
   "cell_type": "code",
   "execution_count": null,
   "id": "8c99b2f7",
   "metadata": {},
   "outputs": [],
   "source": [
    "ammenities_class = \"_3c0zz1\"\n",
    "ammenities_tag = \"div\"\n",
    "\n",
    "def get_listing_ammenities(listing):\n",
    "    try:\n",
    "        return listing.find_all(ammenities_tag, {\"class\": ammenities_class})[1].text\n",
    "    except: \n",
    "        return None\n",
    "\n",
    "get_listing_ammenities(get_listings(soup)[0])"
   ]
  },
  {
   "cell_type": "markdown",
   "id": "02d47508",
   "metadata": {},
   "source": [
    "6. Rating "
   ]
  },
  {
   "cell_type": "code",
   "execution_count": null,
   "id": "a8e0f974",
   "metadata": {},
   "outputs": [],
   "source": [
    "rating_class = \"_10fy1f8\"\n",
    "rating_tag = \"span\"\n",
    "\n",
    "def get_listing_rating(listing):\n",
    "    try:\n",
    "        return float(listing.find(rating_tag, {\"class\": rating_class}).text)\n",
    "    except:\n",
    "        return None\n",
    "\n",
    "get_listing_rating(get_listings(soup)[0])"
   ]
  },
  {
   "cell_type": "markdown",
   "id": "8491bf71",
   "metadata": {},
   "source": [
    "7. Number of reviews"
   ]
  },
  {
   "cell_type": "code",
   "execution_count": null,
   "id": "5c35837b",
   "metadata": {},
   "outputs": [],
   "source": [
    "reviews_class = \"_a7a5sx\"\n",
    "reviews_tag = \"span\"\n",
    "\n",
    "def get_listing_reviews(listing):\n",
    "    try:\n",
    "        return int(listing.find(reviews_tag, {\"class\": reviews_class}).text[2:-1].strip(\" reviews\"))\n",
    "    except:\n",
    "        return None\n",
    "\n",
    "get_listing_reviews(get_listings(soup)[0])"
   ]
  },
  {
   "cell_type": "markdown",
   "id": "68df610f",
   "metadata": {},
   "source": [
    "8. Price per night"
   ]
  },
  {
   "cell_type": "code",
   "execution_count": null,
   "id": "ebcfa87b",
   "metadata": {},
   "outputs": [],
   "source": [
    "price_per_night_class = \"_1gi6jw3f\"\n",
    "price_per_night_tag = \"div\"\n",
    "\n",
    "def get_listing_price_per_night(listing):\n",
    "    try:\n",
    "        return int(listing.find(price_per_night_tag, {\"class\": price_per_night_class}).text.split(\"$\")[-1].strip(\"/ night\"))\n",
    "    except: \n",
    "        return None\n",
    "\n",
    "get_listing_price_per_night(get_listings(soup)[0])"
   ]
  },
  {
   "cell_type": "markdown",
   "id": "66b2db1d",
   "metadata": {},
   "source": [
    "Next,we need a function to retrieve information of the next webpage of the current url. The function find_next_page takes a soup object containing the code for an individual page as input and returns the complete url for the next page. If there are no more pages left, it returns a None in boolean form. We need the base_url to set this up."
   ]
  },
  {
   "cell_type": "code",
   "execution_count": null,
   "id": "cf126cf7",
   "metadata": {},
   "outputs": [],
   "source": [
    "base_url = \"https://airbnb.com\"\n",
    "next_page_class = \"_za9j7e\"\n",
    "next_page_tag = \"a\"\n",
    "\n",
    "def find_next_page(page):\n",
    "    link = soup.find(next_page_tag, {\"class\": next_page_class})\n",
    "    try: \n",
    "        return base_url + link[\"href\"]\n",
    "    except:\n",
    "        return None\n",
    "\n",
    "find_next_page(soup)"
   ]
  },
  {
   "cell_type": "markdown",
   "id": "397da92a",
   "metadata": {},
   "source": [
    "Next, we need to retrieve the data above for all listings in all webpages. We use a for loop to retrieve the information and store the information in lists."
   ]
  },
  {
   "cell_type": "code",
   "execution_count": null,
   "id": "d9459ba8",
   "metadata": {},
   "outputs": [],
   "source": [
    "all_listings = []\n",
    "url = \"https://www.airbnb.com/s/Bali--Indonesia/homes?tab_id=home_tab&refinement_paths%5B%5D=%2Fhomes&source=structured_search_input_header&search_type=filter_change&place_id=ChIJoQ8Q6NNB0S0RkOYkS7EPkSQ&flexible_trip_dates%5B%5D=august&flexible_trip_dates%5B%5D=july&flexible_trip_lengths%5B%5D=weekend_trip&date_picker_type=calendar&checkin=2021-07-07&checkout=2021-07-10&adults=2\"\n",
    "soup = get_page(url)\n",
    "\n",
    "while True: \n",
    "    try:\n",
    "        soup = get_page(url)\n",
    "        for listing in get_listings(soup):\n",
    "            all_listings.append(listing)\n",
    "        url = find_next_page(soup)\n",
    "    except:\n",
    "        break"
   ]
  },
  {
   "cell_type": "code",
   "execution_count": null,
   "id": "b4fc1190",
   "metadata": {},
   "outputs": [],
   "source": [
    "title = []\n",
    "info = []\n",
    "location = []\n",
    "type_of_property = []\n",
    "ammenities = []\n",
    "rating = []\n",
    "reviews = []\n",
    "price_per_night = []\n",
    "\n",
    "for listing in all_listings:\n",
    "    title.append(get_listing_title(listing))\n",
    "    location.append(get_listing_location(listing))\n",
    "    type_of_property.append(get_listing_property(listing))\n",
    "    info.append(get_listing_info(listing))\n",
    "    ammenities.append(get_listing_ammenities(listing))\n",
    "    rating.append(get_listing_rating(listing))\n",
    "    reviews.append(get_listing_reviews(listing))\n",
    "    price_per_night.append(get_listing_price_per_night(listing))"
   ]
  },
  {
   "cell_type": "markdown",
   "id": "09cc7afb",
   "metadata": {},
   "source": [
    "## 3. Saving the data\n",
    "\n",
    "Next, in order to view all information we retrieved, we need to store it in a DataFrame.\n",
    "\n",
    "We store the data in the DataFrame object and call it airbnb. The names of the different columns are equal to those of the lists we just created: title, location, type_of_property, info, ammenities, rating, reviews and price_per_night. However, for further analysis we do not need the title of the listing as it does not give us added value."
   ]
  },
  {
   "cell_type": "code",
   "execution_count": null,
   "id": "cd3d0dd2",
   "metadata": {},
   "outputs": [],
   "source": [
    "data = {'title': title,\n",
    "        'location': location,\n",
    "        'type_of_property': type_of_property,\n",
    "        'ammenitites': ammenities,\n",
    "        'info': info,\n",
    "        'rating': rating,\n",
    "        'reviews': reviews,\n",
    "        'price_per_night': price_per_night,\n",
    "        }\n",
    "\n",
    "airbnb = pd.DataFrame(data = data)\n",
    "airbnb"
   ]
  },
  {
   "cell_type": "markdown",
   "id": "f0e23b7e",
   "metadata": {},
   "source": [
    "Sanity check: \n",
    "\n",
    "Here you can check the basic information of the dataframe and see how many entries there are for each column."
   ]
  },
  {
   "cell_type": "code",
   "execution_count": null,
   "id": "7004ae03",
   "metadata": {},
   "outputs": [],
   "source": [
    "airbnb.info()"
   ]
  },
  {
   "cell_type": "markdown",
   "id": "389ad125",
   "metadata": {},
   "source": [
    "In order to set a benchmark for which properties we favour, we need to look at the average levels of the integer and floating numbers of our dataframe. We give for the average mean and rating a variable."
   ]
  },
  {
   "cell_type": "code",
   "execution_count": null,
   "id": "12aa98ef",
   "metadata": {},
   "outputs": [],
   "source": [
    "airbnb.mean(axis=0)"
   ]
  },
  {
   "cell_type": "code",
   "execution_count": null,
   "id": "e424bd11",
   "metadata": {},
   "outputs": [],
   "source": [
    "avg_rating = airbnb.mean(axis=0)[0]"
   ]
  },
  {
   "cell_type": "code",
   "execution_count": null,
   "id": "362a1089",
   "metadata": {},
   "outputs": [],
   "source": [
    "avg_price_per_night = airbnb.mean(axis=0)[2]"
   ]
  },
  {
   "cell_type": "markdown",
   "id": "b6ecd93b",
   "metadata": {},
   "source": [
    "Here, we can conduct how many types of these properties exist in our analysis that should to be taking into consideration for evaluation."
   ]
  },
  {
   "cell_type": "code",
   "execution_count": null,
   "id": "45094bf6",
   "metadata": {},
   "outputs": [],
   "source": [
    "airbnb.groupby(['type_of_property'])['type_of_property'].count()\n"
   ]
  },
  {
   "cell_type": "markdown",
   "id": "a5a092d7",
   "metadata": {},
   "source": [
    "Since we want the highest possible return on investment we hope to receive a high price per night. Therefore, we will check which location brings most money by calculating the average of all integer and floating columns and set a descending order for price_per_night. "
   ]
  },
  {
   "cell_type": "code",
   "execution_count": null,
   "id": "cd5bbcdb",
   "metadata": {},
   "outputs": [],
   "source": [
    "airbnb_groupby = airbnb.groupby(by=[\"location\"]).mean()\n",
    "airbnb_groupby = airbnb_groupby.sort_values(by=['price_per_night'], ascending = False)\n",
    "airbnb_groupby.head()"
   ]
  },
  {
   "cell_type": "code",
   "execution_count": null,
   "id": "1e45a734",
   "metadata": {},
   "outputs": [],
   "source": [
    "display(airbnb_groupby.loc[(airbnb_groupby['rating']> avg_rating) &\n",
    "                           (airbnb_groupby['price_per_night']> avg_price_per_night)])"
   ]
  },
  {
   "cell_type": "markdown",
   "id": "668708a7",
   "metadata": {},
   "source": [
    "This dataframe is the first result of the best locations to consider."
   ]
  },
  {
   "cell_type": "markdown",
   "id": "8dbdc3ad",
   "metadata": {},
   "source": [
    "Now it is important to know in what type of property the investors want to invest in. This is done by grouping the type of property and showed in descending order of the column \"rating\". "
   ]
  },
  {
   "cell_type": "code",
   "execution_count": null,
   "id": "5e3e92fc",
   "metadata": {},
   "outputs": [],
   "source": [
    "airbnb_groupby2 = airbnb.groupby(by=[\"type_of_property\"]).mean()\n",
    "airbnb_groupby2 = airbnb_groupby2.sort_values(by=['rating'], ascending = False)\n",
    "airbnb_groupby2.head()"
   ]
  },
  {
   "cell_type": "markdown",
   "id": "56011f57",
   "metadata": {},
   "source": [
    "Based on the assumption that the investors want to have a successful estate that gets high ratings we will consider only the ones that have a higher than average rating review. We also want to consider ratings with enough reviews (above 10 reviews) to consider the following types of property."
   ]
  },
  {
   "cell_type": "code",
   "execution_count": null,
   "id": "f671bbe9",
   "metadata": {},
   "outputs": [],
   "source": [
    "display(airbnb_groupby2.loc[(airbnb_groupby2['rating']> avg_rating) &\n",
    "                           (airbnb_groupby2['reviews']>10)])"
   ]
  },
  {
   "cell_type": "markdown",
   "id": "68503bfc",
   "metadata": {},
   "source": [
    "This is the second results to consider which types of properties to consider. \n",
    "\n",
    "Next we want to see which features lead to higher ratings in order to satisfy the tourists' expectations for their stay. "
   ]
  },
  {
   "cell_type": "markdown",
   "id": "c00888e6",
   "metadata": {},
   "source": [
    "# 4. Features of properties to consider"
   ]
  },
  {
   "cell_type": "markdown",
   "id": "75ffe707",
   "metadata": {},
   "source": [
    "First, we need to gain more detailed information from get_listing_info and  get_listing_ammenities with the following code. Please note that due to feature selection we will disregard the feature bed as it it already described with the term bedrooms."
   ]
  },
  {
   "cell_type": "code",
   "execution_count": null,
   "id": "e91bd294",
   "metadata": {},
   "outputs": [],
   "source": [
    "guests = []\n",
    "bedrooms = []\n",
    "baths = []\n",
    "\n",
    "def get_listing_info_each(all_listings):\n",
    "    info_each = []\n",
    "    info_class = \"_3c0zz1\"\n",
    "    info_tag = \"div\"\n",
    "    for listing in all_listings:\n",
    "        try:\n",
    "            info_each.append(listing.find(info_tag, {\"class\": info_class}).text.split(\"·\"))\n",
    "        except:\n",
    "              info_each.append(False)\n",
    "    return info_each\n",
    "\n",
    "\n",
    "for y in get_listing_info_each(all_listings):\n",
    "    \n",
    "    #for guests\n",
    "    number_guest = y[0].split()[0]\n",
    "    guests.append(int(number_guest))\n",
    "\n",
    "    #for bedrooms\n",
    "    number_bedrooms = y[1].split()[0]\n",
    "    if number_bedrooms.isdigit():\n",
    "        bedrooms.append(int(number_bedrooms))\n",
    "    else:\n",
    "        bedrooms.append(None)\n",
    "\n",
    "    #for baths\n",
    "    try: \n",
    "        number_baths = y[3].split()[0]\n",
    "        baths.append(float(number_baths))\n",
    "    except: \n",
    "        baths.append(None)"
   ]
  },
  {
   "cell_type": "code",
   "execution_count": null,
   "id": "26593524",
   "metadata": {},
   "outputs": [],
   "source": [
    "wifi = []\n",
    "kitchen = []\n",
    "air_conditioning = []\n",
    "pool = []\n",
    "\n",
    "for x in ammenities:\n",
    "    if x:\n",
    "        if \"Wifi\" in x: \n",
    "            wifi.append(1)\n",
    "        else:\n",
    "            wifi.append(0)\n",
    "        if \"Kitchen\" in x: \n",
    "            kitchen.append(1)\n",
    "        else:\n",
    "            kitchen.append(0)\n",
    "        if \"Air conditioning\" in x: \n",
    "            air_conditioning.append(1)\n",
    "        else:\n",
    "              air_conditioning.append(0)\n",
    "        if \"Pool\" in x: \n",
    "            pool.append(1)\n",
    "        else:\n",
    "            pool.append(0)  \n",
    "    else:\n",
    "        wifi.append(None)\n",
    "        kitchen.append(None)\n",
    "        air_conditioning.append(None)\n",
    "        pool.append(None)"
   ]
  },
  {
   "cell_type": "markdown",
   "id": "143268d1",
   "metadata": {},
   "source": [
    "Below you can find a Dataframe with the location and type of property per listing with more detailed information of the ameninities as well as other information that is important for the asset management company to consider: how many bedrooms, guests and baths."
   ]
  },
  {
   "cell_type": "code",
   "execution_count": null,
   "id": "b9e091c8",
   "metadata": {},
   "outputs": [],
   "source": [
    "import pandas as pd\n",
    "\n",
    "data = {\"location\": location,\n",
    "        \"type_of_property\": type_of_property,\n",
    "        \"rating\": rating,\n",
    "        \"reviews\": reviews,\n",
    "        \"price_per_night\": price_per_night,\n",
    "        \"guests\": guests, \n",
    "        \"bedrooms\": bedrooms,\n",
    "        \"baths\": baths,\n",
    "        \"wifi\": wifi,\n",
    "        \"kitchen\": kitchen,\n",
    "        \"air_conditioning\": air_conditioning,\n",
    "        \"pool\": pool,\n",
    "        }\n",
    "airbnb2 = pd.DataFrame(data = data)\n",
    "airbnb2"
   ]
  },
  {
   "cell_type": "markdown",
   "id": "efd8b1c9",
   "metadata": {},
   "source": [
    "Next, we will group all entries by rating and sort them in descending order and look at the first 5 entries that lead to the closest 5 star rating."
   ]
  },
  {
   "cell_type": "code",
   "execution_count": null,
   "id": "9422b8f4",
   "metadata": {},
   "outputs": [],
   "source": [
    "airbnb2_groupby = airbnb2.groupby(by=[\"rating\"]).mean()\n",
    "airbnb2_groupby = airbnb2_groupby.sort_values(by=['rating'], ascending = False)\n",
    "airbnb2_groupby.head()"
   ]
  },
  {
   "cell_type": "markdown",
   "id": "10de6092",
   "metadata": {},
   "source": [
    "This dataframe is the last result to consider which features and amenities to consider when investing in a property. "
   ]
  }
 ],
 "metadata": {
  "kernelspec": {
   "display_name": "Python 3",
   "language": "python",
   "name": "python3"
  },
  "language_info": {
   "codemirror_mode": {
    "name": "ipython",
    "version": 3
   },
   "file_extension": ".py",
   "mimetype": "text/x-python",
   "name": "python",
   "nbconvert_exporter": "python",
   "pygments_lexer": "ipython3",
   "version": "3.8.8"
  }
 },
 "nbformat": 4,
 "nbformat_minor": 5
}
